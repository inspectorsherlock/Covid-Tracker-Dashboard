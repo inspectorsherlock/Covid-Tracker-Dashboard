{
 "cells": [
  {
   "cell_type": "markdown",
   "metadata": {},
   "source": [
    "# Accessing PHE Covid Data"
   ]
  },
  {
   "cell_type": "markdown",
   "metadata": {},
   "source": [
    "[Public Health England](https://www.gov.uk/government/organisations/public-health-england) (PHE) is one of many Institutions worldwide running a Coronavirus [dashboard](https://coronavirus.data.gov.uk/), with current statistics on the pandemic. In this series of notebooks, we will guide you through creating your own simple dashboard based on PHE data and putting it online as a [Binder](https://mybinder.org/).\n",
    "\n",
    "You want to start by clicking on *Developer's<sup>1</sup> Guide* in the dashboard menu, which will take you straight to the  [API documentation](https://coronavirus.data.gov.uk/developers-guide). This will be your main source of information for this project, as far as the interaction with the PHE servers is concerned.\n",
    "\n",
    "<sup>1</sup> *Developer*: that's you!"
   ]
  },
  {
   "cell_type": "markdown",
   "metadata": {},
   "source": [
    "## The web-based API and the SDK"
   ]
  },
  {
   "cell_type": "markdown",
   "metadata": {},
   "source": [
    "Many websites support access to their underlying data through a web-based [Application Programming Interface](https://en.wikipedia.org/wiki/API) (an API for short). This is often based on the *http* protocol, and may involve the excange of information in [JSON format](https://en.wikipedia.org/wiki/JSON). Specifically, using a web-based API typically involves sending *http* requests with parameters conforming to a given schema to a dedicated URL (the API *endpoint*), to which the server responds with JSON content. All this is specified in the PHE [API documentation](https://coronavirus.data.gov.uk/developers-guide).\n",
    "\n",
    "As you can see from the documentation, PHE actually also offers a Python Software Devekopment Kit (SDK). This is a Python wrapper that facilitates access to the API by building the requests for you, forwarding them to the API access point and packaging the response into some convenient format. The PHE [Pyhton SDK](https://pypi.org/project/uk-covid19/) is found on the standard Python package repository, PyPi.\n",
    "\n",
    "The first step, therefore, consists in installing the Python SDK. This will depend on how you are accessing these matierials.\n",
    "\n",
    "* If you are working in a Binder: the SDK is already installed for you.\n",
    "* On the EECS JupyterHub: Save your notebooks and close them. Open a terminal and enter the following command (note the double minus ```--```):\n",
    "```\n",
    "pip install --user uk-covid19\n",
    "```\n",
    "you can then close the terminal (type ```exit``` and close the tab). Finally go to *Control Panel > Stop my Server*, start the server again and reopen your notebooks.\n",
    "* On your local machine: this depends on your setup. Entering this line in a command shell will hopefully work:\n",
    "```\n",
    "pip install uk-covid19\n",
    "```\n",
    "if it doesn't, try searching the documentation of your Python distribution or Google for instructions on how to install PiPy packages on your machine. \n",
    "\n",
    "If you have successfully  installed the SDK in your environment, the following cell should work:"
   ]
  },
  {
   "cell_type": "code",
   "execution_count": 5,
   "metadata": {},
   "outputs": [],
   "source": [
    "# note the name of the module has an underscore in place of the -\n",
    "from uk_covid19 import Cov19API\n",
    "import json"
   ]
  },
  {
   "cell_type": "markdown",
   "metadata": {},
   "source": [
    "## Accessing the API through the SDK"
   ]
  },
  {
   "cell_type": "markdown",
   "metadata": {},
   "source": [
    "##### We are now ready to download data from the server via the SDK. Before continuing, you should have a look at the [SDK documentation](https://publichealthengland.github.io/coronavirus-dashboard-api-python-sdk/index.html), which will refer you to the general [API documentation](https://coronavirus.data.gov.uk/developers-guide) for the meaning of the main parameters. The examples below follow the documentation closely.\n",
    "\n",
    "According to the documentation, the first step is defining a [*filter*](https://publichealthengland.github.io/coronavirus-dashboard-api-python-sdk/pages/examples/general_use.html#filters) - this is a **list** specifiying an *areaType* parameter and an optional *areaName*, *areaCode* and *date* parameters. In the jargon of the documentation, these parameters are called *metrics* - check out the metrics allowed for filters [here](https://coronavirus.data.gov.uk/developers-guide#params-filters)."
   ]
  },
  {
   "cell_type": "code",
   "execution_count": 6,
   "metadata": {},
   "outputs": [],
   "source": [
    "filters = [\n",
    "    'areaType=overview' # note each metric-value pair is inside one string\n",
    "]"
   ]
  },
  {
   "cell_type": "markdown",
   "metadata": {},
   "source": [
    "Next, you want do define a [*structure*](https://publichealthengland.github.io/coronavirus-dashboard-api-python-sdk/pages/examples/general_use.html#structure). According to the SDK ocumentation, this is a **dictionary** that specifies which data fields you want to request. In fact, looking at the API documentation for [structures](https://coronavirus.data.gov.uk/developers-guide#params-structure) shows that they do more: they also specify the \"format\" in which you want to receive the response. Read the documentation carefully, including the list of valid *metrics* for a *structure* (which is in fact the most important part).\n",
    "\n",
    "The structure below selects the metrics (that is, the PHE database fields) given as values of the dictionary, and at the same time instructs the API to rename the fields to the simpler names given as keys before serving them to us."
   ]
  },
  {
   "cell_type": "code",
   "execution_count": 7,
   "metadata": {},
   "outputs": [],
   "source": [
    "# values here are the names of the PHE metrics\n",
    "structure = {\n",
    "    \"date\": \"date\",\n",
    "    \"cases\": \"newCasesByPublishDate\",\n",
    "    \"hospital\": \"newAdmissions\",\n",
    "    \"deaths\": \"cumDeaths28DaysByDeathDateRate\"    \n",
    "}"
   ]
  },
  {
   "cell_type": "markdown",
   "metadata": {},
   "source": [
    "**NOTE:** As of version 1.2.0 of the SDK, keys in the ```structure``` dictionary are apparently restricted to alphabet letters. Spaces, digits and underscores seem to cause the query to fail and should be avoided.\n",
    "\n",
    "Accessing the API is easy at this point. You just need to create a ```Cov19API``` object by passing the filters and structure to its constructor, as follows:"
   ]
  },
  {
   "cell_type": "code",
   "execution_count": 8,
   "metadata": {},
   "outputs": [],
   "source": [
    "api = Cov19API(filters=filters, structure=structure)"
   ]
  },
  {
   "cell_type": "markdown",
   "metadata": {},
   "source": [
    "Finally, calling the ```get_json()``` method of the ```api``` object actually sends the request to the API and retrieves the response (theoretically) in JSON format."
   ]
  },
  {
   "cell_type": "code",
   "execution_count": 9,
   "metadata": {},
   "outputs": [],
   "source": [
    "# NOTE: this call polls the server. It may fail in case of connectivity problems or if the data\n",
    "# are not available for any reason. It will also fail if the metric in the structure are not compatible\n",
    "# with the filters (eg they are not defined at the national or local level).\n",
    "timeseries=api.get_json()"
   ]
  },
  {
   "cell_type": "code",
   "execution_count": 10,
   "metadata": {},
   "outputs": [
    {
     "name": "stdout",
     "output_type": "stream",
     "text": [
      "{'data': [{'date': '2020-11-24', 'cases': 11299, 'hospital': None, 'deaths': None}, {'date': '2020-11-23', 'cases': 15450, 'hospital': None, 'deaths': 83.6}, {'date': '2020-11-22', 'cases': 18662, 'hospital': None, 'deaths': 83.4}, {'date': '2020-11-21', 'cases': 19875, 'hospital': None, 'deaths': 83}, {'date': '2020-11-20', 'cases': 20252, 'hospital': 1506, 'deaths': 82.7}, {'date': '2020-11-19', 'cases': 22915, 'hospital': 1648, 'deaths': 82.2}, {'date': '2020-11-18', 'cases': 19609, 'hospital': 1754, 'deaths': 81.6}, {'date': '2020-11-17', 'cases': 20051, 'hospital': 1686, 'deaths': 80.9}, {'date': '2020-11-16', 'cases': 21363, 'hospital': 1740, 'deaths': 80.3}, {'date': '2020-11-15', 'cases': 24962, 'hospital': 1649, 'deaths': 79.7}, {'date': '2020-11-14', 'cases': 26860, 'hospital': 1598, 'deaths': 79.1}, {'date': '2020-11-13', 'cases': 27301, 'hospital': 1623, 'deaths': 78.5}, {'date': '2020-11-12', 'cases': 33470, 'hospital': 1892, 'deaths': 77.9}, {'date': '2020-11-11', 'cases': 22950, 'hospital': 1943, 'deaths': 77.3}, {'date': '2020-11-10', 'cases': 20412, 'hospital': 1830, 'deaths': 76.7}, {'date': '2020-11-09', 'cases': 21350, 'hospital': 1745, 'deaths': 76.2}, {'date': '2020-11-08', 'cases': 20572, 'hospital': 1675, 'deaths': 75.4}, {'date': '2020-11-07', 'cases': 24957, 'hospital': 1543, 'deaths': 74.8}, {'date': '2020-11-06', 'cases': 23287, 'hospital': 1401, 'deaths': 74.3}, {'date': '2020-11-05', 'cases': 24141, 'hospital': 1572, 'deaths': 73.7}, {'date': '2020-11-04', 'cases': 25177, 'hospital': 1671, 'deaths': 73.1}, {'date': '2020-11-03', 'cases': 20018, 'hospital': 1495, 'deaths': 72.6}, {'date': '2020-11-02', 'cases': 18950, 'hospital': 1555, 'deaths': 72.1}, {'date': '2020-11-01', 'cases': 23254, 'hospital': 1478, 'deaths': 71.6}, {'date': '2020-10-31', 'cases': 21915, 'hospital': 1456, 'deaths': 71.1}, {'date': '2020-10-30', 'cases': 24405, 'hospital': 1370, 'deaths': 70.6}, {'date': '2020-10-29', 'cases': 23065, 'hospital': 1579, 'deaths': 70.1}, {'date': '2020-10-28', 'cases': 24701, 'hospital': 1481, 'deaths': 69.6}, {'date': '2020-10-27', 'cases': 22885, 'hospital': 1476, 'deaths': 69.2}, {'date': '2020-10-26', 'cases': 20890, 'hospital': 1523, 'deaths': 68.8}, {'date': '2020-10-25', 'cases': 19790, 'hospital': 1417, 'deaths': 68.4}, {'date': '2020-10-24', 'cases': 23012, 'hospital': 1248, 'deaths': 68}, {'date': '2020-10-23', 'cases': 20530, 'hospital': 1282, 'deaths': 67.7}, {'date': '2020-10-22', 'cases': 21242, 'hospital': 1271, 'deaths': 67.4}, {'date': '2020-10-21', 'cases': 26688, 'hospital': 1258, 'deaths': 67}, {'date': '2020-10-20', 'cases': 21331, 'hospital': 1177, 'deaths': 66.7}, {'date': '2020-10-19', 'cases': 18804, 'hospital': 1088, 'deaths': 66.4}, {'date': '2020-10-18', 'cases': 16982, 'hospital': 1081, 'deaths': 66.1}, {'date': '2020-10-17', 'cases': 16171, 'hospital': 1024, 'deaths': 65.9}, {'date': '2020-10-16', 'cases': 15650, 'hospital': 903, 'deaths': 65.6}, {'date': '2020-10-15', 'cases': 18980, 'hospital': 1037, 'deaths': 65.4}, {'date': '2020-10-14', 'cases': 19724, 'hospital': 979, 'deaths': 65.2}, {'date': '2020-10-13', 'cases': 17234, 'hospital': 1021, 'deaths': 65}, {'date': '2020-10-12', 'cases': 13972, 'hospital': 880, 'deaths': 64.8}, {'date': '2020-10-11', 'cases': 12872, 'hospital': 819, 'deaths': 64.7}, {'date': '2020-10-10', 'cases': 15166, 'hospital': 717, 'deaths': 64.5}, {'date': '2020-10-09', 'cases': 13864, 'hospital': 700, 'deaths': 64.3}, {'date': '2020-10-08', 'cases': 17540, 'hospital': 703, 'deaths': 64.2}, {'date': '2020-10-07', 'cases': 14162, 'hospital': 679, 'deaths': 64.1}, {'date': '2020-10-06', 'cases': 14542, 'hospital': 715, 'deaths': 63.9}, {'date': '2020-10-05', 'cases': 12594, 'hospital': 623, 'deaths': 63.8}, {'date': '2020-10-04', 'cases': 22961, 'hospital': 628, 'deaths': 63.7}, {'date': '2020-10-03', 'cases': 12872, 'hospital': 532, 'deaths': 63.6}, {'date': '2020-10-02', 'cases': 6968, 'hospital': 524, 'deaths': 63.5}, {'date': '2020-10-01', 'cases': 6914, 'hospital': 520, 'deaths': 63.4}, {'date': '2020-09-30', 'cases': 7108, 'hospital': 448, 'deaths': 63.3}, {'date': '2020-09-29', 'cases': 7143, 'hospital': 438, 'deaths': 63.2}, {'date': '2020-09-28', 'cases': 4044, 'hospital': 439, 'deaths': 63.2}, {'date': '2020-09-27', 'cases': 5693, 'hospital': 339, 'deaths': 63.1}, {'date': '2020-09-26', 'cases': 6042, 'hospital': 348, 'deaths': 63}, {'date': '2020-09-25', 'cases': 6874, 'hospital': 380, 'deaths': 62.9}, {'date': '2020-09-24', 'cases': 6634, 'hospital': 419, 'deaths': 62.9}, {'date': '2020-09-23', 'cases': 6178, 'hospital': 416, 'deaths': 62.8}, {'date': '2020-09-22', 'cases': 4926, 'hospital': 350, 'deaths': 62.8}, {'date': '2020-09-21', 'cases': 4368, 'hospital': 368, 'deaths': 62.7}, {'date': '2020-09-20', 'cases': 3899, 'hospital': 286, 'deaths': 62.7}, {'date': '2020-09-19', 'cases': 4422, 'hospital': 258, 'deaths': 62.6}, {'date': '2020-09-18', 'cases': 4322, 'hospital': 258, 'deaths': 62.6}, {'date': '2020-09-17', 'cases': 3395, 'hospital': 262, 'deaths': 62.6}, {'date': '2020-09-16', 'cases': 3991, 'hospital': 283, 'deaths': 62.5}, {'date': '2020-09-15', 'cases': 3105, 'hospital': 268, 'deaths': 62.5}, {'date': '2020-09-14', 'cases': 2621, 'hospital': 255, 'deaths': 62.5}, {'date': '2020-09-13', 'cases': 3330, 'hospital': 223, 'deaths': 62.4}, {'date': '2020-09-12', 'cases': 3497, 'hospital': 215, 'deaths': 62.4}, {'date': '2020-09-11', 'cases': 3539, 'hospital': 228, 'deaths': 62.4}, {'date': '2020-09-10', 'cases': 2919, 'hospital': 217, 'deaths': 62.3}, {'date': '2020-09-09', 'cases': 2659, 'hospital': 198, 'deaths': 62.3}, {'date': '2020-09-08', 'cases': 2460, 'hospital': 182, 'deaths': 62.3}, {'date': '2020-09-07', 'cases': 2948, 'hospital': 140, 'deaths': 62.3}, {'date': '2020-09-06', 'cases': 2988, 'hospital': 135, 'deaths': 62.3}, {'date': '2020-09-05', 'cases': 1813, 'hospital': 131, 'deaths': 62.3}, {'date': '2020-09-04', 'cases': 1940, 'hospital': 152, 'deaths': 62.2}, {'date': '2020-09-03', 'cases': 1735, 'hospital': 145, 'deaths': 62.2}, {'date': '2020-09-02', 'cases': 1508, 'hospital': 143, 'deaths': 62.2}, {'date': '2020-09-01', 'cases': 1295, 'hospital': 133, 'deaths': 62.2}, {'date': '2020-08-31', 'cases': 1406, 'hospital': 90, 'deaths': 62.2}, {'date': '2020-08-30', 'cases': 1715, 'hospital': 76, 'deaths': 62.2}, {'date': '2020-08-29', 'cases': 1108, 'hospital': 109, 'deaths': 62.2}, {'date': '2020-08-28', 'cases': 1276, 'hospital': 137, 'deaths': 62.2}, {'date': '2020-08-27', 'cases': 1522, 'hospital': 150, 'deaths': 62.2}, {'date': '2020-08-26', 'cases': 1048, 'hospital': 128, 'deaths': 62.1}, {'date': '2020-08-25', 'cases': 1184, 'hospital': 120, 'deaths': 62.1}, {'date': '2020-08-24', 'cases': 853, 'hospital': 91, 'deaths': 62.1}, {'date': '2020-08-23', 'cases': 1160, 'hospital': 73, 'deaths': 62.1}, {'date': '2020-08-22', 'cases': 1288, 'hospital': 71, 'deaths': 62.1}, {'date': '2020-08-21', 'cases': 1033, 'hospital': 109, 'deaths': 62.1}, {'date': '2020-08-20', 'cases': 1182, 'hospital': 95, 'deaths': 62.1}, {'date': '2020-08-19', 'cases': 812, 'hospital': 113, 'deaths': 62}, {'date': '2020-08-18', 'cases': 1089, 'hospital': 129, 'deaths': 62}, {'date': '2020-08-17', 'cases': 713, 'hospital': 95, 'deaths': 62}, {'date': '2020-08-16', 'cases': 1040, 'hospital': 79, 'deaths': 62}, {'date': '2020-08-15', 'cases': 1077, 'hospital': 98, 'deaths': 62}, {'date': '2020-08-14', 'cases': 1441, 'hospital': 100, 'deaths': 62}, {'date': '2020-08-13', 'cases': 1129, 'hospital': 129, 'deaths': 62}, {'date': '2020-08-12', 'cases': 1009, 'hospital': 101, 'deaths': 62}, {'date': '2020-08-11', 'cases': 1148, 'hospital': 113, 'deaths': 62}, {'date': '2020-08-10', 'cases': 740, 'hospital': 84, 'deaths': 61.9}, {'date': '2020-08-09', 'cases': 1062, 'hospital': 106, 'deaths': 61.9}, {'date': '2020-08-08', 'cases': 758, 'hospital': 141, 'deaths': 61.9}, {'date': '2020-08-07', 'cases': 871, 'hospital': 116, 'deaths': 61.9}, {'date': '2020-08-06', 'cases': 950, 'hospital': 100, 'deaths': 61.9}, {'date': '2020-08-05', 'cases': 892, 'hospital': 138, 'deaths': 61.9}, {'date': '2020-08-04', 'cases': 670, 'hospital': 126, 'deaths': 61.8}, {'date': '2020-08-03', 'cases': 898, 'hospital': 109, 'deaths': 61.8}, {'date': '2020-08-02', 'cases': 744, 'hospital': 93, 'deaths': 61.8}, {'date': '2020-08-01', 'cases': 761, 'hospital': 127, 'deaths': 61.8}, {'date': '2020-07-31', 'cases': 880, 'hospital': 113, 'deaths': 61.8}, {'date': '2020-07-30', 'cases': 846, 'hospital': 129, 'deaths': 61.8}, {'date': '2020-07-29', 'cases': 763, 'hospital': 132, 'deaths': 61.7}, {'date': '2020-07-28', 'cases': 581, 'hospital': 119, 'deaths': 61.7}, {'date': '2020-07-27', 'cases': 685, 'hospital': 128, 'deaths': 61.7}, {'date': '2020-07-26', 'cases': 745, 'hospital': 109, 'deaths': 61.7}, {'date': '2020-07-25', 'cases': 767, 'hospital': 119, 'deaths': 61.7}, {'date': '2020-07-24', 'cases': 768, 'hospital': 157, 'deaths': 61.6}, {'date': '2020-07-23', 'cases': 769, 'hospital': 199, 'deaths': 61.6}, {'date': '2020-07-22', 'cases': 560, 'hospital': 157, 'deaths': 61.6}, {'date': '2020-07-21', 'cases': 445, 'hospital': 125, 'deaths': 61.6}, {'date': '2020-07-20', 'cases': 557, 'hospital': 130, 'deaths': 61.5}, {'date': '2020-07-19', 'cases': 726, 'hospital': 126, 'deaths': 61.5}, {'date': '2020-07-18', 'cases': 827, 'hospital': 105, 'deaths': 61.5}, {'date': '2020-07-17', 'cases': 687, 'hospital': 143, 'deaths': 61.5}, {'date': '2020-07-16', 'cases': 642, 'hospital': 166, 'deaths': 61.5}, {'date': '2020-07-15', 'cases': 538, 'hospital': 166, 'deaths': 61.4}, {'date': '2020-07-14', 'cases': 398, 'hospital': 185, 'deaths': 61.4}, {'date': '2020-07-13', 'cases': 530, 'hospital': 189, 'deaths': 61.4}, {'date': '2020-07-12', 'cases': 650, 'hospital': 114, 'deaths': 61.3}, {'date': '2020-07-11', 'cases': 820, 'hospital': 176, 'deaths': 61.3}, {'date': '2020-07-10', 'cases': 512, 'hospital': 174, 'deaths': 61.3}, {'date': '2020-07-09', 'cases': 642, 'hospital': 212, 'deaths': 61.3}, {'date': '2020-07-08', 'cases': 630, 'hospital': 209, 'deaths': 61.2}, {'date': '2020-07-07', 'cases': 581, 'hospital': 214, 'deaths': 61.2}, {'date': '2020-07-06', 'cases': 343, 'hospital': 205, 'deaths': 61.1}, {'date': '2020-07-05', 'cases': 516, 'hospital': 195, 'deaths': 61.1}, {'date': '2020-07-04', 'cases': 624, 'hospital': 201, 'deaths': 61}, {'date': '2020-07-03', 'cases': 544, 'hospital': 213, 'deaths': 61}, {'date': '2020-07-02', 'cases': 576, 'hospital': 215, 'deaths': 60.9}, {'date': '2020-07-01', 'cases': 829, 'hospital': 270, 'deaths': 60.9}, {'date': '2020-06-30', 'cases': 689, 'hospital': 295, 'deaths': 60.8}, {'date': '2020-06-29', 'cases': 815, 'hospital': 219, 'deaths': 60.8}, {'date': '2020-06-28', 'cases': 901, 'hospital': 208, 'deaths': 60.7}, {'date': '2020-06-27', 'cases': 890, 'hospital': 286, 'deaths': 60.6}, {'date': '2020-06-26', 'cases': 1006, 'hospital': 337, 'deaths': 60.6}, {'date': '2020-06-25', 'cases': 1118, 'hospital': 323, 'deaths': 60.5}, {'date': '2020-06-24', 'cases': 653, 'hospital': 369, 'deaths': 60.4}, {'date': '2020-06-23', 'cases': 874, 'hospital': 361, 'deaths': 60.3}, {'date': '2020-06-22', 'cases': 958, 'hospital': 393, 'deaths': 60.2}, {'date': '2020-06-21', 'cases': 1221, 'hospital': 287, 'deaths': 60.1}, {'date': '2020-06-20', 'cases': 1295, 'hospital': 257, 'deaths': 60}, {'date': '2020-06-19', 'cases': 1346, 'hospital': 337, 'deaths': 59.9}, {'date': '2020-06-18', 'cases': 1218, 'hospital': 402, 'deaths': 59.9}, {'date': '2020-06-17', 'cases': 1115, 'hospital': 433, 'deaths': 59.8}, {'date': '2020-06-16', 'cases': 1279, 'hospital': 454, 'deaths': 59.7}, {'date': '2020-06-15', 'cases': 1056, 'hospital': 440, 'deaths': 59.6}, {'date': '2020-06-14', 'cases': 1514, 'hospital': 364, 'deaths': 59.4}, {'date': '2020-06-13', 'cases': 1425, 'hospital': 387, 'deaths': 59.3}, {'date': '2020-06-12', 'cases': 1541, 'hospital': 391, 'deaths': 59.2}, {'date': '2020-06-11', 'cases': 1266, 'hospital': 446, 'deaths': 59.1}, {'date': '2020-06-10', 'cases': 1003, 'hospital': 513, 'deaths': 59}, {'date': '2020-06-09', 'cases': 1387, 'hospital': 492, 'deaths': 58.8}, {'date': '2020-06-08', 'cases': 1205, 'hospital': 412, 'deaths': 58.7}, {'date': '2020-06-07', 'cases': 1326, 'hospital': 406, 'deaths': 58.5}, {'date': '2020-06-06', 'cases': 1557, 'hospital': 406, 'deaths': 58.3}, {'date': '2020-06-05', 'cases': 1650, 'hospital': 474, 'deaths': 58.1}, {'date': '2020-06-04', 'cases': 1805, 'hospital': 564, 'deaths': 58}, {'date': '2020-06-03', 'cases': 1871, 'hospital': 633, 'deaths': 57.8}, {'date': '2020-06-02', 'cases': 1613, 'hospital': 668, 'deaths': 57.5}, {'date': '2020-06-01', 'cases': 1570, 'hospital': 604, 'deaths': 57.3}, {'date': '2020-05-31', 'cases': 1936, 'hospital': 528, 'deaths': 57.1}, {'date': '2020-05-30', 'cases': 2445, 'hospital': 568, 'deaths': 56.9}, {'date': '2020-05-29', 'cases': 2095, 'hospital': 615, 'deaths': 56.6}, {'date': '2020-05-28', 'cases': 1887, 'hospital': 702, 'deaths': 56.4}, {'date': '2020-05-27', 'cases': 2013, 'hospital': 712, 'deaths': 56}, {'date': '2020-05-26', 'cases': 2004, 'hospital': 697, 'deaths': 55.8}, {'date': '2020-05-25', 'cases': 1625, 'hospital': 602, 'deaths': 55.4}, {'date': '2020-05-24', 'cases': 2409, 'hospital': 587, 'deaths': 55.1}, {'date': '2020-05-23', 'cases': 2959, 'hospital': 644, 'deaths': 54.8}, {'date': '2020-05-22', 'cases': 3287, 'hospital': 738, 'deaths': 54.5}, {'date': '2020-05-21', 'cases': 2615, 'hospital': 840, 'deaths': 54.2}, {'date': '2020-05-20', 'cases': 2472, 'hospital': 851, 'deaths': 53.8}, {'date': '2020-05-19', 'cases': 2412, 'hospital': 879, 'deaths': 53.4}, {'date': '2020-05-18', 'cases': 2684, 'hospital': 850, 'deaths': 53}, {'date': '2020-05-17', 'cases': 3562, 'hospital': 793, 'deaths': 52.6}, {'date': '2020-05-16', 'cases': 3451, 'hospital': 816, 'deaths': 52.2}, {'date': '2020-05-15', 'cases': 3560, 'hospital': 870, 'deaths': 51.7}, {'date': '2020-05-14', 'cases': 3446, 'hospital': 910, 'deaths': 51.2}, {'date': '2020-05-13', 'cases': 3242, 'hospital': 968, 'deaths': 50.7}, {'date': '2020-05-12', 'cases': 3403, 'hospital': 986, 'deaths': 50.3}, {'date': '2020-05-11', 'cases': 3877, 'hospital': 1029, 'deaths': 49.8}, {'date': '2020-05-10', 'cases': 3923, 'hospital': 914, 'deaths': 49.3}, {'date': '2020-05-09', 'cases': 3896, 'hospital': 941, 'deaths': 48.8}, {'date': '2020-05-08', 'cases': 4649, 'hospital': 910, 'deaths': 48.3}, {'date': '2020-05-07', 'cases': 5614, 'hospital': 1165, 'deaths': 47.7}, {'date': '2020-05-06', 'cases': 6111, 'hospital': 1206, 'deaths': 47}, {'date': '2020-05-05', 'cases': 4406, 'hospital': 1147, 'deaths': 46.3}, {'date': '2020-05-04', 'cases': 3985, 'hospital': 1279, 'deaths': 45.6}, {'date': '2020-05-03', 'cases': 4339, 'hospital': 1221, 'deaths': 44.9}, {'date': '2020-05-02', 'cases': 4806, 'hospital': 1179, 'deaths': 44.2}, {'date': '2020-05-01', 'cases': 6201, 'hospital': 1261, 'deaths': 43.5}, {'date': '2020-04-30', 'cases': 6032, 'hospital': 1444, 'deaths': 42.6}, {'date': '2020-04-29', 'cases': 4076, 'hospital': 1486, 'deaths': 41.8}, {'date': '2020-04-28', 'cases': 3996, 'hospital': 1516, 'deaths': 41}, {'date': '2020-04-27', 'cases': 4310, 'hospital': 1538, 'deaths': 40.1}, {'date': '2020-04-26', 'cases': 4463, 'hospital': 1355, 'deaths': 39.2}, {'date': '2020-04-25', 'cases': 4913, 'hospital': 1254, 'deaths': 38.3}, {'date': '2020-04-24', 'cases': 5386, 'hospital': 1526, 'deaths': 37.3}, {'date': '2020-04-23', 'cases': 4583, 'hospital': 1513, 'deaths': 36.3}, {'date': '2020-04-22', 'cases': 4451, 'hospital': 1529, 'deaths': 35.3}, {'date': '2020-04-21', 'cases': 4301, 'hospital': 1713, 'deaths': 34.2}, {'date': '2020-04-20', 'cases': 4676, 'hospital': 1738, 'deaths': 33.1}, {'date': '2020-04-19', 'cases': 5850, 'hospital': 1656, 'deaths': 31.9}, {'date': '2020-04-18', 'cases': 5526, 'hospital': 1628, 'deaths': 30.8}, {'date': '2020-04-17', 'cases': 5599, 'hospital': 1966, 'deaths': 29.6}, {'date': '2020-04-16', 'cases': 4618, 'hospital': 2010, 'deaths': 28.3}, {'date': '2020-04-15', 'cases': 4605, 'hospital': 1880, 'deaths': 27.1}, {'date': '2020-04-14', 'cases': 5252, 'hospital': 2088, 'deaths': 25.8}, {'date': '2020-04-13', 'cases': 4342, 'hospital': 2160, 'deaths': 24.5}, {'date': '2020-04-12', 'cases': 5288, 'hospital': 2066, 'deaths': 23.2}, {'date': '2020-04-11', 'cases': 5234, 'hospital': 2162, 'deaths': 21.7}, {'date': '2020-04-10', 'cases': 5706, 'hospital': 2461, 'deaths': 20.3}, {'date': '2020-04-09', 'cases': 4675, 'hospital': 2629, 'deaths': 18.9}, {'date': '2020-04-08', 'cases': 5865, 'hospital': 2966, 'deaths': 17.4}, {'date': '2020-04-07', 'cases': 3888, 'hospital': 3150, 'deaths': 15.8}, {'date': '2020-04-06', 'cases': 4143, 'hospital': 3046, 'deaths': 14.3}, {'date': '2020-04-05', 'cases': 6199, 'hospital': 2913, 'deaths': 13}, {'date': '2020-04-04', 'cases': 4000, 'hospital': 2922, 'deaths': 11.6}, {'date': '2020-04-03', 'cases': 4672, 'hospital': 2930, 'deaths': 10.2}, {'date': '2020-04-02', 'cases': 4522, 'hospital': 3283, 'deaths': 9}, {'date': '2020-04-01', 'cases': 4567, 'hospital': 3564, 'deaths': 7.8}, {'date': '2020-03-31', 'cases': 3250, 'hospital': 2835, 'deaths': 6.6}, {'date': '2020-03-30', 'cases': 2665, 'hospital': 3189, 'deaths': 5.6}, {'date': '2020-03-29', 'cases': 2502, 'hospital': 2491, 'deaths': 4.8}, {'date': '2020-03-28', 'cases': 2556, 'hospital': 2193, 'deaths': 4}, {'date': '2020-03-27', 'cases': 2890, 'hospital': 2224, 'deaths': 3.3}, {'date': '2020-03-26', 'cases': 2129, 'hospital': 1930, 'deaths': 2.8}, {'date': '2020-03-25', 'cases': 1452, 'hospital': 2084, 'deaths': 2.2}, {'date': '2020-03-24', 'cases': 1427, 'hospital': 1719, 'deaths': 1.8}, {'date': '2020-03-23', 'cases': 967, 'hospital': 1271, 'deaths': 1.4}, {'date': '2020-03-22', 'cases': 665, 'hospital': None, 'deaths': 1.1}, {'date': '2020-03-21', 'cases': 1035, 'hospital': None, 'deaths': 0.9}, {'date': '2020-03-20', 'cases': 714, 'hospital': None, 'deaths': 0.7}, {'date': '2020-03-19', 'cases': 643, 'hospital': None, 'deaths': 0.5}, {'date': '2020-03-18', 'cases': 676, 'hospital': None, 'deaths': 0.4}, {'date': '2020-03-17', 'cases': 407, 'hospital': None, 'deaths': 0.3}, {'date': '2020-03-16', 'cases': 152, 'hospital': None, 'deaths': 0.2}, {'date': '2020-03-15', 'cases': 330, 'hospital': None, 'deaths': 0.2}, {'date': '2020-03-14', 'cases': 264, 'hospital': None, 'deaths': 0.1}, {'date': '2020-03-13', 'cases': 207, 'hospital': None, 'deaths': 0.1}, {'date': '2020-03-12', 'cases': 134, 'hospital': None, 'deaths': 0.1}, {'date': '2020-03-11', 'cases': 83, 'hospital': None, 'deaths': 0}, {'date': '2020-03-10', 'cases': 52, 'hospital': None, 'deaths': 0}, {'date': '2020-03-09', 'cases': 50, 'hospital': None, 'deaths': 0}, {'date': '2020-03-08', 'cases': 65, 'hospital': None, 'deaths': 0}, {'date': '2020-03-07', 'cases': 46, 'hospital': None, 'deaths': 0}, {'date': '2020-03-06', 'cases': 46, 'hospital': None, 'deaths': 0}, {'date': '2020-03-05', 'cases': 29, 'hospital': None, 'deaths': 0}, {'date': '2020-03-04', 'cases': 34, 'hospital': None, 'deaths': 0}, {'date': '2020-03-03', 'cases': 11, 'hospital': None, 'deaths': 0}, {'date': '2020-03-02', 'cases': 5, 'hospital': None, 'deaths': 0}, {'date': '2020-03-01', 'cases': 12, 'hospital': None, 'deaths': None}, {'date': '2020-02-29', 'cases': 4, 'hospital': None, 'deaths': None}, {'date': '2020-02-28', 'cases': 6, 'hospital': None, 'deaths': None}, {'date': '2020-02-27', 'cases': 0, 'hospital': None, 'deaths': None}, {'date': '2020-02-26', 'cases': 0, 'hospital': None, 'deaths': None}, {'date': '2020-02-25', 'cases': 0, 'hospital': None, 'deaths': None}, {'date': '2020-02-24', 'cases': 4, 'hospital': None, 'deaths': None}, {'date': '2020-02-23', 'cases': 0, 'hospital': None, 'deaths': None}, {'date': '2020-02-22', 'cases': 0, 'hospital': None, 'deaths': None}, {'date': '2020-02-21', 'cases': 0, 'hospital': None, 'deaths': None}, {'date': '2020-02-20', 'cases': 0, 'hospital': None, 'deaths': None}, {'date': '2020-02-19', 'cases': 0, 'hospital': None, 'deaths': None}, {'date': '2020-02-18', 'cases': 0, 'hospital': None, 'deaths': None}, {'date': '2020-02-17', 'cases': 0, 'hospital': None, 'deaths': None}, {'date': '2020-02-16', 'cases': 0, 'hospital': None, 'deaths': None}, {'date': '2020-02-15', 'cases': 0, 'hospital': None, 'deaths': None}, {'date': '2020-02-14', 'cases': 0, 'hospital': None, 'deaths': None}, {'date': '2020-02-13', 'cases': 1, 'hospital': None, 'deaths': None}, {'date': '2020-02-12', 'cases': 0, 'hospital': None, 'deaths': None}, {'date': '2020-02-11', 'cases': 0, 'hospital': None, 'deaths': None}, {'date': '2020-02-10', 'cases': 4, 'hospital': None, 'deaths': None}, {'date': '2020-02-09', 'cases': 1, 'hospital': None, 'deaths': None}, {'date': '2020-02-08', 'cases': 0, 'hospital': None, 'deaths': None}, {'date': '2020-02-07', 'cases': 0, 'hospital': None, 'deaths': None}, {'date': '2020-02-06', 'cases': 1, 'hospital': None, 'deaths': None}, {'date': '2020-02-05', 'cases': 0, 'hospital': None, 'deaths': None}, {'date': '2020-02-04', 'cases': 0, 'hospital': None, 'deaths': None}, {'date': '2020-02-03', 'cases': 0, 'hospital': None, 'deaths': None}, {'date': '2020-02-02', 'cases': 0, 'hospital': None, 'deaths': None}, {'date': '2020-02-01', 'cases': 0, 'hospital': None, 'deaths': None}, {'date': '2020-01-31', 'cases': 2, 'hospital': None, 'deaths': None}, {'date': '2020-01-30', 'cases': 0, 'hospital': None, 'deaths': None}, {'date': '2020-01-29', 'cases': 0, 'hospital': None, 'deaths': None}, {'date': '2020-01-28', 'cases': 0, 'hospital': None, 'deaths': None}, {'date': '2020-01-27', 'cases': 0, 'hospital': None, 'deaths': None}, {'date': '2020-01-26', 'cases': 0, 'hospital': None, 'deaths': None}, {'date': '2020-01-25', 'cases': 0, 'hospital': None, 'deaths': None}, {'date': '2020-01-24', 'cases': 0, 'hospital': None, 'deaths': None}, {'date': '2020-01-23', 'cases': 0, 'hospital': None, 'deaths': None}, {'date': '2020-01-22', 'cases': 0, 'hospital': None, 'deaths': None}, {'date': '2020-01-21', 'cases': 0, 'hospital': None, 'deaths': None}, {'date': '2020-01-20', 'cases': 0, 'hospital': None, 'deaths': None}, {'date': '2020-01-19', 'cases': 0, 'hospital': None, 'deaths': None}, {'date': '2020-01-18', 'cases': 0, 'hospital': None, 'deaths': None}, {'date': '2020-01-17', 'cases': 0, 'hospital': None, 'deaths': None}, {'date': '2020-01-16', 'cases': 0, 'hospital': None, 'deaths': None}, {'date': '2020-01-15', 'cases': 0, 'hospital': None, 'deaths': None}, {'date': '2020-01-14', 'cases': 0, 'hospital': None, 'deaths': None}, {'date': '2020-01-13', 'cases': 0, 'hospital': None, 'deaths': None}, {'date': '2020-01-12', 'cases': 0, 'hospital': None, 'deaths': None}, {'date': '2020-01-11', 'cases': 0, 'hospital': None, 'deaths': None}, {'date': '2020-01-10', 'cases': 0, 'hospital': None, 'deaths': None}, {'date': '2020-01-09', 'cases': 0, 'hospital': None, 'deaths': None}, {'date': '2020-01-08', 'cases': 0, 'hospital': None, 'deaths': None}, {'date': '2020-01-07', 'cases': 0, 'hospital': None, 'deaths': None}, {'date': '2020-01-06', 'cases': 0, 'hospital': None, 'deaths': None}, {'date': '2020-01-05', 'cases': 0, 'hospital': None, 'deaths': None}, {'date': '2020-01-04', 'cases': 0, 'hospital': None, 'deaths': None}, {'date': '2020-01-03', 'cases': 0, 'hospital': None, 'deaths': None}], 'lastUpdate': '2020-11-24T19:41:32.000000Z', 'length': 327, 'totalPages': 1}\n"
     ]
    }
   ],
   "source": [
    "print(timeseries)"
   ]
  },
  {
   "cell_type": "code",
   "execution_count": 25,
   "metadata": {},
   "outputs": [
    {
     "name": "stdout",
     "output_type": "stream",
     "text": [
      "<class 'dict'>\n"
     ]
    }
   ],
   "source": [
    "print(type(timeseries)) # hold on, this is not JSON!"
   ]
  },
  {
   "cell_type": "markdown",
   "metadata": {},
   "source": [
    "As you can see, ```get_json()``` is a bit of a misnomer - the function actually returns a dictionary containing nested lists and dictionaries. As we will see this is not too different from what a JSON string looks like, but technically, this is something different. All the better for us, we don't need to decode it - but we may actually want to encode it, see below.\n",
    "\n",
    "Also, some entries contain a value of ```None```, we will asssume that stands for a ```0``` rather than for not available. In any case, by and large we got our data, so this is a success."
   ]
  },
  {
   "cell_type": "markdown",
   "metadata": {},
   "source": [
    "### Another example: Cases by gender and age\n",
    "\n",
    "The example above lends itself to visualisation as a plot of cases, hospital admissions and fatalities vs time. In this example, instead, we investigate the distribution of cases by sex and age bands; eventually, we will plot this as a bar chart.\n",
    "\n",
    "Again we define our *filters* and *structure*, but with different *metrics*, as follows: "
   ]
  },
  {
   "cell_type": "code",
   "execution_count": 21,
   "metadata": {},
   "outputs": [],
   "source": [
    "filters = [\n",
    "    'areaType=nation',\n",
    "    'areaName=Wales'\n",
    "]\n",
    "\n",
    "\n",
    "# values here are the names of the PHE metrics\n",
    "structure = {\n",
    "    \"males\": \"maleCases\",\n",
    "    \"females\": \"femaleCases\"\n",
    "}"
   ]
  },
  {
   "cell_type": "markdown",
   "metadata": {},
   "source": [
    "The next two steps are standard:"
   ]
  },
  {
   "cell_type": "code",
   "execution_count": 22,
   "metadata": {},
   "outputs": [],
   "source": [
    "api = Cov19API(filters=filters, structure=structure)"
   ]
  },
  {
   "cell_type": "code",
   "execution_count": 23,
   "metadata": {},
   "outputs": [],
   "source": [
    "# NOTE: this call polls the server. It may fail in case of connectivity problems or if the data\n",
    "# are not available for any reason. It will also fail if the metric in the structure are not compatible\n",
    "# with the filters (eg they are not defined at the national or local level).\n",
    "agedistribution = api.get_json()"
   ]
  },
  {
   "cell_type": "code",
   "execution_count": 24,
   "metadata": {},
   "outputs": [
    {
     "name": "stdout",
     "output_type": "stream",
     "text": [
      "{'data': [{'males': [{'age': '0_to_4', 'value': 578, 'rate': 682.4}, {'age': '5_to_9', 'value': 569, 'rate': 537.5}, {'age': '10_to_14', 'value': 920, 'rate': 976.6}, {'age': '15_to_19', 'value': 2522, 'rate': 2720.2}, {'age': '20_to_24', 'value': 3394, 'rate': 3800.7}, {'age': '25_to_29', 'value': 2756, 'rate': 2591.6}, {'age': '30_to_34', 'value': 2531, 'rate': 2375.6}, {'age': '35_to_39', 'value': 2266, 'rate': 2353.9}, {'age': '40_to_44', 'value': 2157, 'rate': 2359.6}, {'age': '45_to_49', 'value': 2438, 'rate': 2914.1}, {'age': '50_to_54', 'value': 2514, 'rate': 2592.3}, {'age': '55_to_59', 'value': 2556, 'rate': 2382.3}, {'age': '60_to_64', 'value': 1741, 'rate': 1854.1}, {'age': '65_to_69', 'value': 1167, 'rate': 1317.7}, {'age': '70_to_74', 'value': 1122, 'rate': 1295.1}, {'age': '75_to_79', 'value': 1129, 'rate': 1897.4}, {'age': '80_to_84', 'value': 1023, 'rate': 2576.8}, {'age': '85_to_89', 'value': 786, 'rate': 3673.6}, {'age': '90+', 'value': 572, 'rate': 5902.4}, {'age': '0_to_4', 'value': 578, 'rate': 682.4}, {'age': '5_to_9', 'value': 569, 'rate': 537.5}, {'age': '10_to_14', 'value': 920, 'rate': 976.6}, {'age': '15_to_19', 'value': 2522, 'rate': 2720.2}, {'age': '20_to_24', 'value': 3394, 'rate': 3800.7}, {'age': '25_to_29', 'value': 2756, 'rate': 2591.6}, {'age': '30_to_34', 'value': 2531, 'rate': 2375.6}, {'age': '35_to_39', 'value': 2266, 'rate': 2353.9}, {'age': '40_to_44', 'value': 2157, 'rate': 2359.6}, {'age': '45_to_49', 'value': 2438, 'rate': 2914.1}, {'age': '50_to_54', 'value': 2514, 'rate': 2592.3}, {'age': '55_to_59', 'value': 2556, 'rate': 2382.3}, {'age': '60_to_64', 'value': 1741, 'rate': 1854.1}, {'age': '65_to_69', 'value': 1167, 'rate': 1317.7}, {'age': '70_to_74', 'value': 1122, 'rate': 1295.1}, {'age': '75_to_79', 'value': 1129, 'rate': 1897.4}, {'age': '80_to_84', 'value': 1023, 'rate': 2576.8}, {'age': '85_to_89', 'value': 786, 'rate': 3673.6}, {'age': '90+', 'value': 572, 'rate': 5902.4}], 'females': [{'age': '0_to_4', 'value': 545, 'rate': 674.1}, {'age': '5_to_9', 'value': 521, 'rate': 466.8}, {'age': '10_to_14', 'value': 828, 'rate': 924.4}, {'age': '15_to_19', 'value': 3279, 'rate': 3721.7}, {'age': '20_to_24', 'value': 4154, 'rate': 4999.9}, {'age': '25_to_29', 'value': 3687, 'rate': 3838.3}, {'age': '30_to_34', 'value': 3339, 'rate': 3282.6}, {'age': '35_to_39', 'value': 3104, 'rate': 3210.4}, {'age': '40_to_44', 'value': 3059, 'rate': 3271.5}, {'age': '45_to_49', 'value': 3391, 'rate': 3947.9}, {'age': '50_to_54', 'value': 3708, 'rate': 3632}, {'age': '55_to_59', 'value': 3300, 'rate': 2915.5}, {'age': '60_to_64', 'value': 2097, 'rate': 2119.2}, {'age': '65_to_69', 'value': 1108, 'rate': 1184}, {'age': '70_to_74', 'value': 1022, 'rate': 1103.1}, {'age': '75_to_79', 'value': 1030, 'rate': 1530.8}, {'age': '80_to_84', 'value': 1126, 'rate': 2248.9}, {'age': '85_to_89', 'value': 1176, 'rate': 3620.5}, {'age': '90+', 'value': 1284, 'rate': 6165.7}, {'age': '0_to_4', 'value': 545, 'rate': 674.1}, {'age': '5_to_9', 'value': 521, 'rate': 466.8}, {'age': '10_to_14', 'value': 828, 'rate': 924.4}, {'age': '15_to_19', 'value': 3279, 'rate': 3721.7}, {'age': '20_to_24', 'value': 4154, 'rate': 4999.9}, {'age': '25_to_29', 'value': 3687, 'rate': 3838.3}, {'age': '30_to_34', 'value': 3339, 'rate': 3282.6}, {'age': '35_to_39', 'value': 3104, 'rate': 3210.4}, {'age': '40_to_44', 'value': 3059, 'rate': 3271.5}, {'age': '45_to_49', 'value': 3391, 'rate': 3947.9}, {'age': '50_to_54', 'value': 3708, 'rate': 3632}, {'age': '55_to_59', 'value': 3300, 'rate': 2915.5}, {'age': '60_to_64', 'value': 2097, 'rate': 2119.2}, {'age': '65_to_69', 'value': 1108, 'rate': 1184}, {'age': '70_to_74', 'value': 1022, 'rate': 1103.1}, {'age': '75_to_79', 'value': 1030, 'rate': 1530.8}, {'age': '80_to_84', 'value': 1126, 'rate': 2248.9}, {'age': '85_to_89', 'value': 1176, 'rate': 3620.5}, {'age': '90+', 'value': 1284, 'rate': 6165.7}]}], 'lastUpdate': '2020-11-25T15:27:04.000000Z', 'length': 1, 'totalPages': 1}\n"
     ]
    }
   ],
   "source": [
    "print(agedistribution)"
   ]
  },
  {
   "cell_type": "markdown",
   "metadata": {},
   "source": [
    "Again this is a dictionary and it does contain the data we expected. Note however how the formatting and the type of data depend, maybe unsurprisingly, on the specific *metric* we queried."
   ]
  },
  {
   "cell_type": "markdown",
   "metadata": {},
   "source": [
    "## Saving the data in JSON format"
   ]
  },
  {
   "cell_type": "markdown",
   "metadata": {},
   "source": [
    "At this point, we want to save the result of our API queries in order to \n",
    "* have something definite to work on in the other notebooks\n",
    "* eventually, give our dashboard some starting data.\n",
    "\n",
    "The problem arises of how to save these dictionaries to the disk. Luckily we do not have to save them in a bespoke way at this stage - we can use the [json module](https://docs.python.org/3/library/json.html) in the stardard library to dump them sa they are in [JSON format](https://en.wikipedia.org/wiki/JSON). This is straightforward:"
   ]
  },
  {
   "cell_type": "code",
   "execution_count": 30,
   "metadata": {},
   "outputs": [],
   "source": [
    "import json"
   ]
  },
  {
   "cell_type": "code",
   "execution_count": 31,
   "metadata": {},
   "outputs": [],
   "source": [
    "with open(\"timeseries.json\", \"wt\") as OUTF:\n",
    "    json.dump(timeseries, OUTF)"
   ]
  },
  {
   "cell_type": "code",
   "execution_count": 16,
   "metadata": {},
   "outputs": [],
   "source": [
    "with open(\"agedistribution.json\", \"wt\") as OUTF:\n",
    "    json.dump(agedistribution, OUTF)"
   ]
  },
  {
   "cell_type": "markdown",
   "metadata": {},
   "source": [
    "If you now use a text editor (or the Jupyter Notebook interface), you will see that the content of the files closely resembles the tangle of dictionaries and lists we have seen above. However, technically, these are no longer Python dictionary and files, rather the JSON representation of them, and could be opened by another program written in another language, that will map them to an equivalent data structure (whichever is provided by that language)."
   ]
  },
  {
   "cell_type": "markdown",
   "metadata": {},
   "source": [
    "## Your turn"
   ]
  },
  {
   "cell_type": "markdown",
   "metadata": {},
   "source": [
    "Explore the various *metrics* available for [*filters*](https://coronavirus.data.gov.uk/developers-guide#params-filters) and [*structures*](https://coronavirus.data.gov.uk/developers-guide#params-structure) and think of a query that may be of interest to you, and how you might then want to visualise the data. You can modify either the *structure*, in order to select different types of data, or the *filters*, to specify a different granularity (national or local level, specific dates, etc). Possible graphs of interest might be:\n",
    "* a comparison of the number of test carried out with planned testing capacity;\n",
    "* a comparison of the number of new cases with the number of tests;\n",
    "* the above, broken down by region;\n",
    "* a comparison of the number of cases with hospital admissions;\n",
    "* a comparison of hospital admissions with ventilator bed occupancy;\n",
    "* new cases in major cities as a fraction of the population of those cities;\n",
    "* a comparison of the age distribution of new cases at different times (this will require more than one API access)\n",
    "\n",
    "Please keep in mind the following points:\n",
    "* Not all metrics are available for all dates, or at all levels of granularity; querying for data that's unavailable will result in an error.\n",
    "* Documentation is poor - welcome to the real world. A BSc in Reverse Engineering would come in handy.\n",
    "* Experimenting is fine. However, avoid flooding the server with multiple queries at machine speed - if you use a ```for``` loop to generate API accesses, use the ```sleep()``` function from the ```time``` module to introduce a 1 second delay between one query and the next (see [here](https://docs.python.org/3/library/time.html#time.sleep) for details). The last thing you want is for PHE to ban you.\n",
    "\n",
    "Once you succeed in retrieving the data you want, save them in JSON format and move on to the next stage - visualisation.\n",
    "\n",
    "\n",
    "**NOTE:** In the visualisation stage, we are going to load the data into a ```pandas.DataFrame``` structure. As you will see from the documentation, the SDK contains a method ```get_dataframe()``` that allows you to retrieve the data in the form of a ```DataFrame``` directly. From my tests, however, this method only works with certain *metrics*, and returns gibberish in other cases. I would therefore advise you to stick with JSON. In any case, JSON is a de-facto standard for APIs, and some familiarity with this format is a valuable skill in itself."
   ]
  },
  {
   "cell_type": "code",
   "execution_count": 3,
   "metadata": {},
   "outputs": [
    {
     "ename": "FailedRequestError",
     "evalue": "\nRequest failed .... 500 - Internal Server Error\nResponse .......... {\"response\":\"An internal error occurred whilst processing your request, please try again. If the problem persists, please report as an issue and include your request.\",\"status_code\":500,\"status\":\"Internal Server Error\"}\nURL ............... https://api.coronavirus.data.gov.uk/v1/data?filters=areaType%3DoverviewareaName%3DEngland&structure=%7B%22males%22%3A%22maleCases%22%2C%22females%22%3A%22femaleCases%22%7D&format=json&page=1\nDecoded URL ....... https://api.coronavirus.data.gov.uk/v1/data?filters=areaType=overviewareaName=England&structure={\"males\":\"maleCases\",\"females\":\"femaleCases\"}&format=json&page=1\nParameters:\n{ 'filters': 'areaType=overviewareaName=England',\n  'format': 'json',\n  'page': 1,\n  'structure': '{\"males\":\"maleCases\",\"females\":\"femaleCases\"}'}\n",
     "output_type": "error",
     "traceback": [
      "\u001b[0;31m---------------------------------------------------------------------------\u001b[0m",
      "\u001b[0;31mFailedRequestError\u001b[0m                        Traceback (most recent call last)",
      "\u001b[0;32m<ipython-input-3-2a63656754a0>\u001b[0m in \u001b[0;36m<module>\u001b[0;34m\u001b[0m\n\u001b[1;32m     14\u001b[0m \u001b[0mapi\u001b[0m \u001b[0;34m=\u001b[0m \u001b[0mCov19API\u001b[0m\u001b[0;34m(\u001b[0m\u001b[0mfilters\u001b[0m\u001b[0;34m=\u001b[0m\u001b[0mfilters\u001b[0m\u001b[0;34m,\u001b[0m \u001b[0mstructure\u001b[0m\u001b[0;34m=\u001b[0m\u001b[0mstructure\u001b[0m\u001b[0;34m)\u001b[0m\u001b[0;34m\u001b[0m\u001b[0;34m\u001b[0m\u001b[0m\n\u001b[1;32m     15\u001b[0m \u001b[0;34m\u001b[0m\u001b[0m\n\u001b[0;32m---> 16\u001b[0;31m \u001b[0magedistribution\u001b[0m\u001b[0;34m=\u001b[0m\u001b[0mapi\u001b[0m\u001b[0;34m.\u001b[0m\u001b[0mget_json\u001b[0m\u001b[0;34m(\u001b[0m\u001b[0;34m)\u001b[0m\u001b[0;34m\u001b[0m\u001b[0;34m\u001b[0m\u001b[0m\n\u001b[0m\u001b[1;32m     17\u001b[0m \u001b[0;34m\u001b[0m\u001b[0m\n\u001b[1;32m     18\u001b[0m \u001b[0mprint\u001b[0m\u001b[0;34m(\u001b[0m\u001b[0magedistribution\u001b[0m\u001b[0;34m)\u001b[0m\u001b[0;34m\u001b[0m\u001b[0;34m\u001b[0m\u001b[0m\n",
      "\u001b[0;32m/opt/anaconda3/lib/python3.8/site-packages/uk_covid19/api_interface.py\u001b[0m in \u001b[0;36mget_json\u001b[0;34m(self, save_as, as_string)\u001b[0m\n\u001b[1;32m    352\u001b[0m         }\n\u001b[1;32m    353\u001b[0m \u001b[0;34m\u001b[0m\u001b[0m\n\u001b[0;32m--> 354\u001b[0;31m         \u001b[0;32mfor\u001b[0m \u001b[0mresponse\u001b[0m \u001b[0;32min\u001b[0m \u001b[0mself\u001b[0m\u001b[0;34m.\u001b[0m\u001b[0m_get\u001b[0m\u001b[0;34m(\u001b[0m\u001b[0mDataFormat\u001b[0m\u001b[0;34m.\u001b[0m\u001b[0mJSON\u001b[0m\u001b[0;34m)\u001b[0m\u001b[0;34m:\u001b[0m\u001b[0;34m\u001b[0m\u001b[0;34m\u001b[0m\u001b[0m\n\u001b[0m\u001b[1;32m    355\u001b[0m             \u001b[0mcurrent_data\u001b[0m \u001b[0;34m=\u001b[0m \u001b[0mresponse\u001b[0m\u001b[0;34m.\u001b[0m\u001b[0mjson\u001b[0m\u001b[0;34m(\u001b[0m\u001b[0;34m)\u001b[0m\u001b[0;34m\u001b[0m\u001b[0;34m\u001b[0m\u001b[0m\n\u001b[1;32m    356\u001b[0m             \u001b[0mpage_data\u001b[0m \u001b[0;34m=\u001b[0m \u001b[0mcurrent_data\u001b[0m\u001b[0;34m[\u001b[0m\u001b[0;34m'data'\u001b[0m\u001b[0;34m]\u001b[0m\u001b[0;34m\u001b[0m\u001b[0;34m\u001b[0m\u001b[0m\n",
      "\u001b[0;32m/opt/anaconda3/lib/python3.8/site-packages/uk_covid19/api_interface.py\u001b[0m in \u001b[0;36m_get\u001b[0;34m(self, format_as)\u001b[0m\n\u001b[1;32m    296\u001b[0m                          verify=certifi.where()) as response:\n\u001b[1;32m    297\u001b[0m                 \u001b[0;32mif\u001b[0m \u001b[0mresponse\u001b[0m\u001b[0;34m.\u001b[0m\u001b[0mstatus_code\u001b[0m \u001b[0;34m>=\u001b[0m \u001b[0mHTTPStatus\u001b[0m\u001b[0;34m.\u001b[0m\u001b[0mBAD_REQUEST\u001b[0m\u001b[0;34m:\u001b[0m\u001b[0;34m\u001b[0m\u001b[0;34m\u001b[0m\u001b[0m\n\u001b[0;32m--> 298\u001b[0;31m                     \u001b[0;32mraise\u001b[0m \u001b[0mFailedRequestError\u001b[0m\u001b[0;34m(\u001b[0m\u001b[0mresponse\u001b[0m\u001b[0;34m=\u001b[0m\u001b[0mresponse\u001b[0m\u001b[0;34m,\u001b[0m \u001b[0mparams\u001b[0m\u001b[0;34m=\u001b[0m\u001b[0mapi_params\u001b[0m\u001b[0;34m)\u001b[0m\u001b[0;34m\u001b[0m\u001b[0;34m\u001b[0m\u001b[0m\n\u001b[0m\u001b[1;32m    299\u001b[0m \u001b[0;34m\u001b[0m\u001b[0m\n\u001b[1;32m    300\u001b[0m                 \u001b[0;32mif\u001b[0m \u001b[0mresponse\u001b[0m\u001b[0;34m.\u001b[0m\u001b[0mstatus_code\u001b[0m \u001b[0;34m==\u001b[0m \u001b[0mHTTPStatus\u001b[0m\u001b[0;34m.\u001b[0m\u001b[0mNO_CONTENT\u001b[0m\u001b[0;34m:\u001b[0m\u001b[0;34m\u001b[0m\u001b[0;34m\u001b[0m\u001b[0m\n",
      "\u001b[0;31mFailedRequestError\u001b[0m: \nRequest failed .... 500 - Internal Server Error\nResponse .......... {\"response\":\"An internal error occurred whilst processing your request, please try again. If the problem persists, please report as an issue and include your request.\",\"status_code\":500,\"status\":\"Internal Server Error\"}\nURL ............... https://api.coronavirus.data.gov.uk/v1/data?filters=areaType%3DoverviewareaName%3DEngland&structure=%7B%22males%22%3A%22maleCases%22%2C%22females%22%3A%22femaleCases%22%7D&format=json&page=1\nDecoded URL ....... https://api.coronavirus.data.gov.uk/v1/data?filters=areaType=overviewareaName=England&structure={\"males\":\"maleCases\",\"females\":\"femaleCases\"}&format=json&page=1\nParameters:\n{ 'filters': 'areaType=overviewareaName=England',\n  'format': 'json',\n  'page': 1,\n  'structure': '{\"males\":\"maleCases\",\"females\":\"femaleCases\"}'}\n"
     ]
    }
   ],
   "source": [
    "from uk_covid19 import Cov19API\n",
    "import json\n",
    "\n",
    "filters = [\n",
    "    'areaType=overview'\n",
    "    'areaName=England'\n",
    "]\n",
    "\n",
    "structure = {\n",
    "   \n",
    "}\n",
    "\n",
    "api = Cov19API(filters=filters, structure=structure)\n",
    "\n",
    "agedistribution=api.get_json()\n",
    "\n",
    "print(agedistribution)"
   ]
  },
  {
   "cell_type": "markdown",
   "metadata": {},
   "source": [
    "**(C) 2020 Fabrizio Smeraldi** ([f.smeraldi@qmul.ac.uk](mailto:f.smeraldi@qmul.ac.uk) - [web](http://www.eecs.qmul.ac.uk/~fabri/)), all rights reserved."
   ]
  }
 ],
 "metadata": {
  "kernelspec": {
   "display_name": "Python 3",
   "language": "python",
   "name": "python3"
  },
  "language_info": {
   "codemirror_mode": {
    "name": "ipython",
    "version": 3
   },
   "file_extension": ".py",
   "mimetype": "text/x-python",
   "name": "python",
   "nbconvert_exporter": "python",
   "pygments_lexer": "ipython3",
   "version": "3.8.5"
  }
 },
 "nbformat": 4,
 "nbformat_minor": 4
}
